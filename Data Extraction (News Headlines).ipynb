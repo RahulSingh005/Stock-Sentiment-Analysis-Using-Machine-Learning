{
 "cells": [
  {
   "cell_type": "markdown",
   "id": "b757a8a4-fc00-4fa2-8a26-b045452dda76",
   "metadata": {},
   "source": [
    "# Data Extraction Using API "
   ]
  },
  {
   "cell_type": "markdown",
   "id": "e8c06e6a-2d62-4558-9fe9-4d20b1fb6b57",
   "metadata": {},
   "source": [
    "### Importing Libraries"
   ]
  },
  {
   "cell_type": "code",
   "execution_count": 1,
   "id": "5155fae5-adc7-4559-b4dc-ade235d80683",
   "metadata": {},
   "outputs": [],
   "source": [
    "import requests\n",
    "import json\n",
    "import pandas as pd"
   ]
  },
  {
   "cell_type": "markdown",
   "id": "78309516-0bdc-41d9-8207-7e1889d83cc6",
   "metadata": {},
   "source": [
    "### Function to Extract Headlines and Summary of Articles from News Website\n",
    "In this Case Website Used- The New York Times "
   ]
  },
  {
   "cell_type": "code",
   "execution_count": 11,
   "id": "c613a435-77fb-498b-a2d9-a33b90496b12",
   "metadata": {},
   "outputs": [],
   "source": [
    "def fetch_nyt_archives(api_key, query, year):\n",
    "    all_articles = []\n",
    "    \n",
    "    for month in range(1, 7):\n",
    "        url = f'https://api.nytimes.com/svc/archive/v1/{year}/{month}.json'\n",
    "        params = {\n",
    "            'api-key': api_key,\n",
    "            'q': query,\n",
    "            'begin_date': f'{year}{month:02d}01', \n",
    "            'end_date': f'{year}{month:02d}31'\n",
    "        }\n",
    "        retry_count = 3 \n",
    "        retry_delay = 5\n",
    "        while retry_count > 0:\n",
    "            response = requests.get(url, params=params)\n",
    "            \n",
    "            if response.status_code == 200:\n",
    "                data = response.json()\n",
    "                if 'response' in data and 'docs' in data['response']:\n",
    "                    all_articles.extend(data['response']['docs'])\n",
    "                break\n",
    "            elif response.status_code == 429:\n",
    "                print(f\"Rate limit exceeded. Retrying in {retry_delay} seconds...\")\n",
    "                time.sleep(retry_delay)\n",
    "                retry_delay *= 2\n",
    "                retry_count -= 1\n",
    "            else:\n",
    "                print(f\"Error fetching data for {query} in {year}/{month}: {response.status_code}, {response.text}\")\n",
    "                break\n",
    "    \n",
    "    return all_articles"
   ]
  },
  {
   "cell_type": "markdown",
   "id": "9687ecdf-43f5-43a0-bc53-0a3cab67b717",
   "metadata": {},
   "source": [
    "### Function to Store Articles for Particular Stock"
   ]
  },
  {
   "cell_type": "code",
   "execution_count": 12,
   "id": "0ace58cc-4c43-4cc7-b34f-7f1bc3d88626",
   "metadata": {},
   "outputs": [],
   "source": [
    "def process_articles(articles, query):\n",
    "    processed_articles = []\n",
    "    for article in articles:\n",
    "        processed_articles.append({\n",
    "            'Headlines': article['headline']['main'],\n",
    "            'Publication_Date': article['pub_date'],\n",
    "            'Summary': article['snippet'],\n",
    "            'Query': query\n",
    "        })\n",
    "    return processed_articles"
   ]
  },
  {
   "cell_type": "markdown",
   "id": "db92a882-feb6-4896-b02a-c94be20b7bf8",
   "metadata": {},
   "source": [
    "### Fetching And Saving Articles in .csv File Format"
   ]
  },
  {
   "cell_type": "code",
   "execution_count": 13,
   "id": "8439a085-9716-4e44-977c-6cf944598a35",
   "metadata": {},
   "outputs": [],
   "source": [
    "def fetch_and_save_articles(api_key, queries, year, output_dir):\n",
    "    for query in queries:\n",
    "        all_articles = fetch_nyt_archives(api_key, query, year)\n",
    "        processed_articles = process_articles(all_articles, query)\n",
    "        \n",
    "        if processed_articles:\n",
    "            df = pd.DataFrame(processed_articles)\n",
    "            output_file = f\"{output_dir}/{query}_News_{year}_Test.csv\"\n",
    "            df.to_csv(output_file, index=False)\n",
    "            print(f\"Saved {len(df)} articles for '{query}' to {output_file}\")\n",
    "        else:\n",
    "            print(f\"No articles fetched for '{query}' in {year}\")"
   ]
  },
  {
   "cell_type": "markdown",
   "id": "484f8fd7-6338-4082-8b98-f692b4feb6fa",
   "metadata": {},
   "source": [
    "### Necessary Information Required in Data Extraction and Function Call to Fetch and Store Data"
   ]
  },
  {
   "cell_type": "code",
   "execution_count": 14,
   "id": "314b9dd0-94c9-47b1-9d4f-8f23076c7f69",
   "metadata": {},
   "outputs": [
    {
     "name": "stdout",
     "output_type": "stream",
     "text": [
      "Saved 22099 articles for 'Microsoft' to NYT_Articles/Microsoft_News_2024_Test.csv\n",
      "Saved 22099 articles for 'Google' to NYT_Articles/Google_News_2024_Test.csv\n"
     ]
    }
   ],
   "source": [
    "api_key = 'Enter Your API Key'\n",
    "queries = [ 'Microsoft', 'Google']\n",
    "year = 2024\n",
    "output_dir = 'NYT_Articles'\n",
    "fetch_and_save_articles(api_key, queries, year, output_dir)"
   ]
  }
 ],
 "metadata": {
  "kernelspec": {
   "display_name": "Python 3 (ipykernel)",
   "language": "python",
   "name": "python3"
  },
  "language_info": {
   "codemirror_mode": {
    "name": "ipython",
    "version": 3
   },
   "file_extension": ".py",
   "mimetype": "text/x-python",
   "name": "python",
   "nbconvert_exporter": "python",
   "pygments_lexer": "ipython3",
   "version": "3.11.7"
  }
 },
 "nbformat": 4,
 "nbformat_minor": 5
}
