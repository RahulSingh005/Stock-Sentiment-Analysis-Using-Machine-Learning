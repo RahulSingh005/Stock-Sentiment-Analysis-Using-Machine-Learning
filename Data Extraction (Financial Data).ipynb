{
 "cells": [
  {
   "cell_type": "markdown",
   "id": "fe202811-0634-497b-af25-46a1e4cf1abe",
   "metadata": {},
   "source": [
    "# Data Extraction Using API"
   ]
  },
  {
   "cell_type": "markdown",
   "id": "7b66eaca-605a-4c48-939d-9bb804692779",
   "metadata": {},
   "source": [
    "### Importing Libraries"
   ]
  },
  {
   "cell_type": "code",
   "execution_count": 1,
   "id": "226626e0-6aef-4685-ad82-60186df91a29",
   "metadata": {},
   "outputs": [],
   "source": [
    "import os\n",
    "import requests\n",
    "import pandas as pd"
   ]
  },
  {
   "cell_type": "markdown",
   "id": "932cbb9e-1817-4b33-a94b-497b84daee75",
   "metadata": {},
   "source": [
    "### Function to Fetch Financial Data of a Stock"
   ]
  },
  {
   "cell_type": "code",
   "execution_count": 2,
   "id": "16748ee0-99ae-41b7-9348-7cc7ba54cccc",
   "metadata": {},
   "outputs": [],
   "source": [
    "def fetch_stock_data(symbol, api_key, start_date, end_date):\n",
    "    url = f'https://www.alphavantage.co/query'\n",
    "    params = {\n",
    "        'function': 'TIME_SERIES_DAILY',\n",
    "        'symbol': symbol,\n",
    "        'apikey': api_key,\n",
    "        'outputsize': 'full',\n",
    "        'datatype': 'json'\n",
    "    }\n",
    "    response = requests.get(url, params=params)\n",
    "    \n",
    "    if response.status_code == 200:\n",
    "        data = response.json()\n",
    "        df = pd.DataFrame(data['Time Series (Daily)']).transpose()\n",
    "        df = df[(df.index >= start_date) & (df.index <= end_date)]\n",
    "        df.index = pd.to_datetime(df.index)\n",
    "        df = df.sort_index()\n",
    "        df = df[['1. open', '2. high', '3. low', '4. close', '5. volume']]\n",
    "        df.columns = ['Open', 'High', 'Low', 'Close', 'Volume']\n",
    "        df = df.astype({'Open': float, 'High': float, 'Low': float, 'Close': float, 'Volume': int})\n",
    "        return df\n",
    "    else:\n",
    "        print(f\"Failed to fetch data for {symbol}: {response.status_code}, {response.text}\")\n",
    "        return None"
   ]
  },
  {
   "cell_type": "markdown",
   "id": "4d3f9852-f58c-4f24-ae6e-2472c3ea6799",
   "metadata": {},
   "source": [
    "### Function to Save the Fetched Data in .csv File Format"
   ]
  },
  {
   "cell_type": "code",
   "execution_count": 3,
   "id": "e2657279-48ce-481d-81f5-eb6d6e161470",
   "metadata": {},
   "outputs": [],
   "source": [
    "def save_to_csv(df, symbol, output_dir):\n",
    "    os.makedirs(output_dir, exist_ok=True)\n",
    "    output_file = os.path.join(output_dir, f\"{symbol}_Financial_Data_Test.csv\")\n",
    "    df.to_csv(output_file, index=True)\n",
    "    print(f\"Saved {symbol} data to {output_file}\")"
   ]
  },
  {
   "cell_type": "markdown",
   "id": "9881164d-4ae4-4613-b6f8-292a22f34aaa",
   "metadata": {},
   "source": [
    "### Necessary Information Required in Fetching Data"
   ]
  },
  {
   "cell_type": "code",
   "execution_count": 5,
   "id": "a76c5021-98f9-4490-814e-825ef2fc508c",
   "metadata": {},
   "outputs": [],
   "source": [
    "api_key = 'Enter the API Key'\n",
    "symbols = ['MSFT', 'GOOGL']  \n",
    "start_date = '2024-01-01'\n",
    "end_date = '2024-06-17'\n",
    "output_dir = 'Financial_Data'"
   ]
  },
  {
   "cell_type": "markdown",
   "id": "c33d4156-d6ff-4ed9-8bc0-e8872391290f",
   "metadata": {},
   "source": [
    "### Function Call to Fetch Data"
   ]
  },
  {
   "cell_type": "code",
   "execution_count": 2,
   "id": "e1b47be0-550d-4191-8cfc-e066a6bda4d1",
   "metadata": {},
   "outputs": [
    {
     "name": "stdout",
     "output_type": "stream",
     "text": [
      "Saved MSFT data to Financial_Data\\MSFT_Financial_Data_Test.csv\n",
      "Saved GOOGL data to Financial_Data\\GOOGL_Financial_Data_Test.csv\n"
     ]
    }
   ],
   "source": [
    "for symbol in symbols:\n",
    "    stock_data = fetch_stock_data(symbol, api_key, start_date, end_date)\n",
    "    if stock_data is not None:\n",
    "        save_to_csv(stock_data, symbol, output_dir)\n",
    "    else:\n",
    "        print(f\"Failed to fetch data for {symbol}\")"
   ]
  }
 ],
 "metadata": {
  "kernelspec": {
   "display_name": "Python 3 (ipykernel)",
   "language": "python",
   "name": "python3"
  },
  "language_info": {
   "codemirror_mode": {
    "name": "ipython",
    "version": 3
   },
   "file_extension": ".py",
   "mimetype": "text/x-python",
   "name": "python",
   "nbconvert_exporter": "python",
   "pygments_lexer": "ipython3",
   "version": "3.11.7"
  }
 },
 "nbformat": 4,
 "nbformat_minor": 5
}
